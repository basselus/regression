{
 "cells": [
  {
   "cell_type": "markdown",
   "metadata": {},
   "source": [
    "# Complex event processing with a reservoir sample algorithm"
   ]
  },
  {
   "cell_type": "markdown",
   "metadata": {},
   "source": [
    "To process representative samples of infinite streaming data (case of internet), we need to define a limit from which there are 2 possibilities : 1/if the reservoir has not reached its capacity (k data samples) new tuples will keep getting in. 2/if the reservoir is full, we must define the probability to add or not the new element. This probability must be equal between all the elements of the sample.The algorithm below defines a function that takes into account these probabilities and generates an example of random sample."
   ]
  },
  {
   "cell_type": "code",
   "execution_count": null,
   "metadata": {},
   "outputs": [],
   "source": [
    "# Import library"
   ]
  },
  {
   "cell_type": "code",
   "execution_count": 1,
   "metadata": {},
   "outputs": [],
   "source": [
    "import random "
   ]
  },
  {
   "cell_type": "markdown",
   "metadata": {},
   "source": [
    "define reservoir function with the parameters below :\n",
    "\n",
    "1-tuple : a tuple arrives in the reservoir. example : a character chain\n",
    "\n",
    "2-i : number of tuples arriving since the beginning of the process\n",
    "\n",
    "3-k : capacity of the reservoir"
   ]
  },
  {
   "cell_type": "code",
   "execution_count": null,
   "metadata": {},
   "outputs": [],
   "source": [
    "# Write the algorithm"
   ]
  },
  {
   "cell_type": "code",
   "execution_count": 2,
   "metadata": {},
   "outputs": [
    {
     "name": "stdout",
     "output_type": "stream",
     "text": [
      "['7', 'R', 'I', '\\x10', '\\\\', '\\\\', 'D', '\\x15', '\\x1c', ' ', '\\x1c', '9', '\\x1a', '\\x19', 'b', 'J', 'Q', 'W', '+', '\\x07', '8', '$', 'I', '%', 'M', 'N', ',', '1', '\\x17', 'J', ':', '\"', '\\x1f', 'W', '3', '/', '=', 'A', ';', 'F', '\\x04', '7', 'M', '\\x17', 'L', 'A', 'P', 'T', '[', '\\x12', 'A', '\\x03', '\"', '<', 'B', 'U', '\\x10', 'P', ',', 'J', 'F', 'Q', 'U', '4', '9', '7', '\\x10', '\\x16', '\\x1b', 'V', '\\x01', '9', '*', 'X', 'F', '\\x06', '[', 'Q', 'Y', 'U', 'a', '\\x04', '`', 'W', 'H', 'd', '(', '%', '\\x03', \"'\", '\\x1a', '\\x0e', '\\n', '%', 'G', ',', '\\x1b', \"'\", 'W', '^', '\\x02']\n"
     ]
    }
   ],
   "source": [
    "def process_tuple(tuple, i, k) :\n",
    "    if i<=k: # if the number of tuples is <= than the reservoir capacity, then:\n",
    "        return reservoir.append(tuple) # add the new tuple arriving in the reservoir\n",
    "    else : # else do :\n",
    "        p1=k/i # calculate p1 as the probability to add the newly arrived tuple \n",
    "        p2=random.random() # perform a uniform random sample from 0 to 1 and assign the result to p2\n",
    "        if p1>p2: # if p1 >p2 then:\n",
    "            indice=round(p2*i) # calculate the indice of the tuple that will be removed from the reservoir\n",
    "            reservoir[indice]=tuple # and will be replaced by the new tuple\n",
    "            \n",
    "reservoir=[] # initialize the reservoir\n",
    "for i in range(0,200): # Generate the 200 incoming tuples\n",
    "    tuple=chr(random.randint(1,100)) # the tuple is a character chain randomly generated\n",
    "    process_tuple(tuple,i,100) # for i varying from 0 to k=100 which is the capacity of the reservoir\n",
    "print(reservoir)"
   ]
  }
 ],
 "metadata": {
  "kernelspec": {
   "display_name": "Python 3",
   "language": "python",
   "name": "python3"
  },
  "language_info": {
   "codemirror_mode": {
    "name": "ipython",
    "version": 3
   },
   "file_extension": ".py",
   "mimetype": "text/x-python",
   "name": "python",
   "nbconvert_exporter": "python",
   "pygments_lexer": "ipython3",
   "version": "3.6.4"
  }
 },
 "nbformat": 4,
 "nbformat_minor": 2
}
